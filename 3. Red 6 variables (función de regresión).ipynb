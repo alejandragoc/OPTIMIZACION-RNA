{
 "cells": [
  {
   "cell_type": "code",
   "execution_count": 1,
   "metadata": {},
   "outputs": [],
   "source": [
    "import pandas as pd\n",
    "import numpy as np\n",
    "import seaborn as sb\n",
    "import matplotlib.pyplot as plt\n",
    "import sklearn.neural_network as nn\n",
    "from sklearn.model_selection import KFold\n",
    "from sklearn.metrics import r2_score, mean_squared_error, mean_absolute_error\n",
    "from sklearn.linear_model import LogisticRegression\n",
    "from sklearn.feature_selection import SelectPercentile, f_regression"
   ]
  },
  {
   "cell_type": "code",
   "execution_count": 2,
   "metadata": {},
   "outputs": [],
   "source": [
    "datos = pd.read_csv(\"FOTOSINTESIS.csv\", delimiter=\";\")"
   ]
  },
  {
   "cell_type": "code",
   "execution_count": 3,
   "metadata": {},
   "outputs": [
    {
     "data": {
      "text/html": [
       "<div>\n",
       "<style scoped>\n",
       "    .dataframe tbody tr th:only-of-type {\n",
       "        vertical-align: middle;\n",
       "    }\n",
       "\n",
       "    .dataframe tbody tr th {\n",
       "        vertical-align: top;\n",
       "    }\n",
       "\n",
       "    .dataframe thead th {\n",
       "        text-align: right;\n",
       "    }\n",
       "</style>\n",
       "<table border=\"1\" class=\"dataframe\">\n",
       "  <thead>\n",
       "    <tr style=\"text-align: right;\">\n",
       "      <th></th>\n",
       "      <th>Ano</th>\n",
       "      <th>Cod</th>\n",
       "      <th>Bloque</th>\n",
       "      <th>Altura planta</th>\n",
       "      <th>Area de copa (A) =m2</th>\n",
       "      <th>Diametro tronco (cm)</th>\n",
       "      <th>A.F no destructiva m2</th>\n",
       "      <th>P</th>\n",
       "      <th>Asimilacion de CO2</th>\n",
       "      <th>Uso eficiente del agua</th>\n",
       "      <th>...</th>\n",
       "      <th>Conductividad</th>\n",
       "      <th>K</th>\n",
       "      <th>MO</th>\n",
       "      <th>Radiacion</th>\n",
       "      <th>Temperatura</th>\n",
       "      <th>Conductividad electrica</th>\n",
       "      <th>Lluvias acumuladas (mms)</th>\n",
       "      <th>Humedad</th>\n",
       "      <th>Numero de dias con lluvia</th>\n",
       "      <th>Total</th>\n",
       "    </tr>\n",
       "  </thead>\n",
       "  <tbody>\n",
       "    <tr>\n",
       "      <th>0</th>\n",
       "      <td>2015</td>\n",
       "      <td>1</td>\n",
       "      <td>1</td>\n",
       "      <td>239.75</td>\n",
       "      <td>4.063267</td>\n",
       "      <td>15.700</td>\n",
       "      <td>10.753787</td>\n",
       "      <td>8.323926</td>\n",
       "      <td>2.36</td>\n",
       "      <td>0.634409</td>\n",
       "      <td>...</td>\n",
       "      <td>0.10</td>\n",
       "      <td>0.169256</td>\n",
       "      <td>2.084278</td>\n",
       "      <td>3086781.006</td>\n",
       "      <td>26.631139</td>\n",
       "      <td>0.017657</td>\n",
       "      <td>1457.3</td>\n",
       "      <td>0.241857</td>\n",
       "      <td>153</td>\n",
       "      <td>991.987500</td>\n",
       "    </tr>\n",
       "    <tr>\n",
       "      <th>1</th>\n",
       "      <td>2015</td>\n",
       "      <td>1</td>\n",
       "      <td>2</td>\n",
       "      <td>192.50</td>\n",
       "      <td>5.321635</td>\n",
       "      <td>15.600</td>\n",
       "      <td>7.621132</td>\n",
       "      <td>8.323926</td>\n",
       "      <td>1.73</td>\n",
       "      <td>1.291045</td>\n",
       "      <td>...</td>\n",
       "      <td>0.02</td>\n",
       "      <td>0.169256</td>\n",
       "      <td>2.084278</td>\n",
       "      <td>3086781.006</td>\n",
       "      <td>26.631139</td>\n",
       "      <td>0.017657</td>\n",
       "      <td>1457.3</td>\n",
       "      <td>0.241857</td>\n",
       "      <td>153</td>\n",
       "      <td>540.582500</td>\n",
       "    </tr>\n",
       "    <tr>\n",
       "      <th>2</th>\n",
       "      <td>2015</td>\n",
       "      <td>2</td>\n",
       "      <td>2</td>\n",
       "      <td>224.75</td>\n",
       "      <td>7.213035</td>\n",
       "      <td>16.350</td>\n",
       "      <td>13.110679</td>\n",
       "      <td>8.323926</td>\n",
       "      <td>2.72</td>\n",
       "      <td>1.219731</td>\n",
       "      <td>...</td>\n",
       "      <td>0.04</td>\n",
       "      <td>0.169256</td>\n",
       "      <td>2.084278</td>\n",
       "      <td>3086781.006</td>\n",
       "      <td>26.631139</td>\n",
       "      <td>0.017657</td>\n",
       "      <td>1457.3</td>\n",
       "      <td>0.241857</td>\n",
       "      <td>153</td>\n",
       "      <td>267.533333</td>\n",
       "    </tr>\n",
       "    <tr>\n",
       "      <th>3</th>\n",
       "      <td>2015</td>\n",
       "      <td>3</td>\n",
       "      <td>2</td>\n",
       "      <td>158.00</td>\n",
       "      <td>2.744031</td>\n",
       "      <td>13.025</td>\n",
       "      <td>3.252769</td>\n",
       "      <td>8.323926</td>\n",
       "      <td>3.20</td>\n",
       "      <td>1.245136</td>\n",
       "      <td>...</td>\n",
       "      <td>0.05</td>\n",
       "      <td>0.169256</td>\n",
       "      <td>2.084278</td>\n",
       "      <td>3086781.006</td>\n",
       "      <td>26.631139</td>\n",
       "      <td>0.017657</td>\n",
       "      <td>1457.3</td>\n",
       "      <td>0.241857</td>\n",
       "      <td>153</td>\n",
       "      <td>1826.063750</td>\n",
       "    </tr>\n",
       "    <tr>\n",
       "      <th>4</th>\n",
       "      <td>2015</td>\n",
       "      <td>4</td>\n",
       "      <td>2</td>\n",
       "      <td>196.00</td>\n",
       "      <td>5.925922</td>\n",
       "      <td>16.525</td>\n",
       "      <td>8.810752</td>\n",
       "      <td>8.323926</td>\n",
       "      <td>5.70</td>\n",
       "      <td>1.775701</td>\n",
       "      <td>...</td>\n",
       "      <td>0.07</td>\n",
       "      <td>0.169256</td>\n",
       "      <td>2.084278</td>\n",
       "      <td>3086781.006</td>\n",
       "      <td>26.631139</td>\n",
       "      <td>0.017657</td>\n",
       "      <td>1457.3</td>\n",
       "      <td>0.241857</td>\n",
       "      <td>153</td>\n",
       "      <td>586.963500</td>\n",
       "    </tr>\n",
       "  </tbody>\n",
       "</table>\n",
       "<p>5 rows × 21 columns</p>\n",
       "</div>"
      ],
      "text/plain": [
       "    Ano  Cod  Bloque  Altura planta  Area de copa (A) =m2  \\\n",
       "0  2015    1       1         239.75              4.063267   \n",
       "1  2015    1       2         192.50              5.321635   \n",
       "2  2015    2       2         224.75              7.213035   \n",
       "3  2015    3       2         158.00              2.744031   \n",
       "4  2015    4       2         196.00              5.925922   \n",
       "\n",
       "   Diametro tronco (cm)  A.F no destructiva m2         P  Asimilacion de CO2  \\\n",
       "0                15.700              10.753787  8.323926                2.36   \n",
       "1                15.600               7.621132  8.323926                1.73   \n",
       "2                16.350              13.110679  8.323926                2.72   \n",
       "3                13.025               3.252769  8.323926                3.20   \n",
       "4                16.525               8.810752  8.323926                5.70   \n",
       "\n",
       "   Uso eficiente del agua     ...       Conductividad         K        MO  \\\n",
       "0                0.634409     ...                0.10  0.169256  2.084278   \n",
       "1                1.291045     ...                0.02  0.169256  2.084278   \n",
       "2                1.219731     ...                0.04  0.169256  2.084278   \n",
       "3                1.245136     ...                0.05  0.169256  2.084278   \n",
       "4                1.775701     ...                0.07  0.169256  2.084278   \n",
       "\n",
       "     Radiacion  Temperatura  Conductividad electrica  \\\n",
       "0  3086781.006    26.631139                 0.017657   \n",
       "1  3086781.006    26.631139                 0.017657   \n",
       "2  3086781.006    26.631139                 0.017657   \n",
       "3  3086781.006    26.631139                 0.017657   \n",
       "4  3086781.006    26.631139                 0.017657   \n",
       "\n",
       "   Lluvias acumuladas (mms)   Humedad   Numero de dias con lluvia        Total  \n",
       "0                    1457.3  0.241857                         153   991.987500  \n",
       "1                    1457.3  0.241857                         153   540.582500  \n",
       "2                    1457.3  0.241857                         153   267.533333  \n",
       "3                    1457.3  0.241857                         153  1826.063750  \n",
       "4                    1457.3  0.241857                         153   586.963500  \n",
       "\n",
       "[5 rows x 21 columns]"
      ]
     },
     "execution_count": 3,
     "metadata": {},
     "output_type": "execute_result"
    }
   ],
   "source": [
    "datos.head()"
   ]
  },
  {
   "cell_type": "code",
   "execution_count": 4,
   "metadata": {
    "scrolled": true
   },
   "outputs": [
    {
     "name": "stdout",
     "output_type": "stream",
     "text": [
      "(428, 21)\n"
     ]
    }
   ],
   "source": [
    "print(datos.shape)"
   ]
  },
  {
   "cell_type": "code",
   "execution_count": 5,
   "metadata": {},
   "outputs": [],
   "source": [
    "datos = datos.fillna(datos.mean())"
   ]
  },
  {
   "cell_type": "code",
   "execution_count": 6,
   "metadata": {},
   "outputs": [],
   "source": [
    "datos = datos.drop(['Ano','Cod','Bloque'], axis=1)"
   ]
  },
  {
   "cell_type": "code",
   "execution_count": 7,
   "metadata": {},
   "outputs": [],
   "source": [
    "cols_to_norm = ['Altura planta','Area de copa (A) =m2', 'Diametro tronco (cm)','A.F no destructiva m2','P','Asimilacion de CO2','Uso eficiente del agua','Transpiracion','Conductividad','K','MO','Radiacion','Temperatura','Conductividad electrica','Lluvias acumuladas (mms)','Humedad',' Numero de dias con lluvia','Total']\n",
    "datos[cols_to_norm] = datos[cols_to_norm].apply(lambda X: (X - X.min()) / (X.max() - X.min()))"
   ]
  },
  {
   "cell_type": "code",
   "execution_count": 8,
   "metadata": {
    "scrolled": true
   },
   "outputs": [
    {
     "data": {
      "image/png": "[encoded data removed]",
      "text/plain": [
       "<Figure size 432x288 with 1 Axes>"
      ]
     },
     "metadata": {
      "needs_background": "light"
     },
     "output_type": "display_data"
    }
   ],
   "source": [
    "selector = SelectPercentile(f_regression, percentile=10)\n",
    "selector.fit(datos.values[:,:-1], datos.values[:,-1])\n",
    "scores = -np.log10(selector.pvalues_)\n",
    "scores /= scores.max()\n",
    "X_indices = np.arange(datos.values[:,:-1].shape[-1])\n",
    "plt.bar(X_indices, scores, width=.3,\n",
    "        label=r'score univariable ($-Log(p_{value})$)', color='darkorange',\n",
    "        edgecolor='black');\n",
    "\n",
    "plt.xticks(np.arange(20))\n",
    "plt.title(\"Comparación de características individualmente\")\n",
    "plt.xlabel('Número de la característica')\n",
    "plt.yticks(())\n",
    "plt.axis('tight')\n",
    "plt.legend(loc='upper right')\n",
    "plt.show()"
   ]
  },
  {
   "cell_type": "code",
   "execution_count": 9,
   "metadata": {},
   "outputs": [
    {
     "data": {
      "text/plain": [
       "array([0.55757013, 0.24148548, 0.91254017, 0.07998632, 0.16672941,\n",
       "       0.11987173, 0.25430725, 0.01048338, 0.03014412, 0.06818754,\n",
       "       0.09749354, 1.        , 0.97902927, 0.62512066, 0.01967284,\n",
       "       0.23548382, 0.96197681])"
      ]
     },
     "execution_count": 9,
     "metadata": {},
     "output_type": "execute_result"
    }
   ],
   "source": [
    "scores[:]"
   ]
  },
  {
   "cell_type": "code",
   "execution_count": 10,
   "metadata": {},
   "outputs": [],
   "source": [
    "datos = datos.drop(['Area de copa (A) =m2','A.F no destructiva m2','P','Asimilacion de CO2','Uso eficiente del agua','Transpiracion','Conductividad','K','MO','Humedad','Lluvias acumuladas (mms)'], axis=1)"
   ]
  },
  {
   "cell_type": "code",
   "execution_count": 11,
   "metadata": {},
   "outputs": [
    {
     "data": {
      "text/html": [
       "<div>\n",
       "<style scoped>\n",
       "    .dataframe tbody tr th:only-of-type {\n",
       "        vertical-align: middle;\n",
       "    }\n",
       "\n",
       "    .dataframe tbody tr th {\n",
       "        vertical-align: top;\n",
       "    }\n",
       "\n",
       "    .dataframe thead th {\n",
       "        text-align: right;\n",
       "    }\n",
       "</style>\n",
       "<table border=\"1\" class=\"dataframe\">\n",
       "  <thead>\n",
       "    <tr style=\"text-align: right;\">\n",
       "      <th></th>\n",
       "      <th>Altura planta</th>\n",
       "      <th>Diametro tronco (cm)</th>\n",
       "      <th>Radiacion</th>\n",
       "      <th>Temperatura</th>\n",
       "      <th>Conductividad electrica</th>\n",
       "      <th>Numero de dias con lluvia</th>\n",
       "      <th>Total</th>\n",
       "    </tr>\n",
       "  </thead>\n",
       "  <tbody>\n",
       "    <tr>\n",
       "      <th>0</th>\n",
       "      <td>0.485969</td>\n",
       "      <td>0.315053</td>\n",
       "      <td>0.404994</td>\n",
       "      <td>0.980408</td>\n",
       "      <td>0.050663</td>\n",
       "      <td>0.666667</td>\n",
       "      <td>0.081196</td>\n",
       "    </tr>\n",
       "    <tr>\n",
       "      <th>1</th>\n",
       "      <td>0.244898</td>\n",
       "      <td>0.310385</td>\n",
       "      <td>0.404994</td>\n",
       "      <td>0.980408</td>\n",
       "      <td>0.050663</td>\n",
       "      <td>0.666667</td>\n",
       "      <td>0.042171</td>\n",
       "    </tr>\n",
       "    <tr>\n",
       "      <th>2</th>\n",
       "      <td>0.409439</td>\n",
       "      <td>0.345391</td>\n",
       "      <td>0.404994</td>\n",
       "      <td>0.980408</td>\n",
       "      <td>0.050663</td>\n",
       "      <td>0.666667</td>\n",
       "      <td>0.018566</td>\n",
       "    </tr>\n",
       "    <tr>\n",
       "      <th>3</th>\n",
       "      <td>0.068878</td>\n",
       "      <td>0.190198</td>\n",
       "      <td>0.404994</td>\n",
       "      <td>0.980408</td>\n",
       "      <td>0.050663</td>\n",
       "      <td>0.666667</td>\n",
       "      <td>0.153303</td>\n",
       "    </tr>\n",
       "    <tr>\n",
       "      <th>4</th>\n",
       "      <td>0.262755</td>\n",
       "      <td>0.353559</td>\n",
       "      <td>0.404994</td>\n",
       "      <td>0.980408</td>\n",
       "      <td>0.050663</td>\n",
       "      <td>0.666667</td>\n",
       "      <td>0.046181</td>\n",
       "    </tr>\n",
       "  </tbody>\n",
       "</table>\n",
       "</div>"
      ],
      "text/plain": [
       "   Altura planta  Diametro tronco (cm)  Radiacion  Temperatura  \\\n",
       "0       0.485969              0.315053   0.404994     0.980408   \n",
       "1       0.244898              0.310385   0.404994     0.980408   \n",
       "2       0.409439              0.345391   0.404994     0.980408   \n",
       "3       0.068878              0.190198   0.404994     0.980408   \n",
       "4       0.262755              0.353559   0.404994     0.980408   \n",
       "\n",
       "   Conductividad electrica   Numero de dias con lluvia     Total  \n",
       "0                 0.050663                    0.666667  0.081196  \n",
       "1                 0.050663                    0.666667  0.042171  \n",
       "2                 0.050663                    0.666667  0.018566  \n",
       "3                 0.050663                    0.666667  0.153303  \n",
       "4                 0.050663                    0.666667  0.046181  "
      ]
     },
     "execution_count": 11,
     "metadata": {},
     "output_type": "execute_result"
    }
   ],
   "source": [
    "datos.head()"
   ]
  },
  {
   "cell_type": "code",
   "execution_count": 12,
   "metadata": {},
   "outputs": [],
   "source": [
    "X = datos.values[:,:-1]  \n",
    "Y = datos.values[:,-1]\n",
    "names=datos.columns"
   ]
  },
  {
   "cell_type": "code",
   "execution_count": 13,
   "metadata": {},
   "outputs": [],
   "source": [
    "#X_train, X_test, y_train, y_test = train_test_split(X, Y, test_size=0.2, random_state=42)"
   ]
  },
  {
   "cell_type": "code",
   "execution_count": 14,
   "metadata": {},
   "outputs": [
    {
     "data": {
      "text/plain": [
       "5"
      ]
     },
     "execution_count": 14,
     "metadata": {},
     "output_type": "execute_result"
    }
   ],
   "source": [
    "# hacer validación cruzada\n",
    "kf = KFold(n_splits=5,random_state=0, shuffle=True)\n",
    "kf.get_n_splits(X)"
   ]
  },
  {
   "cell_type": "code",
   "execution_count": 15,
   "metadata": {},
   "outputs": [
    {
     "name": "stdout",
     "output_type": "stream",
     "text": [
      "R2:  0.22534178674708893\n",
      "MSE:  0.023179322632533084\n",
      "RMSE:  0.15224757020239463\n",
      "MAE:  0.11185941671284612\n",
      "R2:  0.15351854209259763\n",
      "MSE:  0.018724374974068203\n",
      "RMSE:  0.13683703801993158\n",
      "MAE:  0.10537417457816792\n",
      "R2:  0.05238533608288498\n",
      "MSE:  0.019175619618811642\n",
      "RMSE:  0.1384760615370456\n",
      "MAE:  0.11019956929206348\n",
      "R2:  0.16596525016346841\n",
      "MSE:  0.0257858123546315\n",
      "RMSE:  0.1605796137578849\n",
      "MAE:  0.10873688685810247\n",
      "R2:  0.09988652545097543\n",
      "MSE:  0.014254530583148862\n",
      "RMSE:  0.1193923388796319\n",
      "MAE:  0.09321878981880292\n",
      "meanR2:  0.13941948810740307\n",
      "meanMSE:  0.02022393203263866\n",
      "meanRMSE:  0.1415065244793777\n",
      "meanMAE:  0.10587776745199658\n"
     ]
    }
   ],
   "source": [
    "#CON VALIDACIÓN CRUZADA\n",
    "\n",
    "R = []\n",
    "MSE = []   \n",
    "MAE = []   \n",
    "for train_index, test_index in kf.split(X):\n",
    "    X_train, X_test = X[train_index], X[test_index]\n",
    "    y_train, y_test = Y[train_index], Y[test_index]\n",
    "    mlp = nn.MLPRegressor(solver='adam', hidden_layer_sizes=10, max_iter=100, activation='relu', random_state=1, learning_rate_init=0.025, batch_size='auto', momentum=0.09)\n",
    "    mlp.fit(X_train, y_train)\n",
    "    y_pred = mlp.predict(X_test)\n",
    "    r2 = r2_score(y_test, y_pred)\n",
    "    mse = mean_squared_error(y_test, y_pred)\n",
    "    mae = mean_absolute_error(y_test, y_pred)\n",
    "    print(\"R2: \", r2)\n",
    "    print(\"MSE: \", mse)\n",
    "    print(\"RMSE: \", np.sqrt(mse))\n",
    "    print('MAE: ', mae)\n",
    "    R.append(r2)\n",
    "    MSE.append(mse)\n",
    "    MAE.append(mae)\n",
    "print(\"meanR2: \",np.array(R).mean())\n",
    "print(\"meanMSE: \",np.array(MSE).mean())\n",
    "print(\"meanRMSE: \", np.sqrt(MSE).mean())\n",
    "print('meanMAE: ',np.array(MAE).mean())"
   ]
  }
 ],
 "metadata": {
  "kernelspec": {
   "display_name": "Python 3",
   "language": "python",
   "name": "python3"
  },
  "language_info": {
   "codemirror_mode": {
    "name": "ipython",
    "version": 3
   },
   "file_extension": ".py",
   "mimetype": "text/x-python",
   "name": "python",
   "nbconvert_exporter": "python",
   "pygments_lexer": "ipython3",
   "version": "3.7.1"
  }
 },
 "nbformat": 4,
 "nbformat_minor": 2
}
