{
 "cells": [
  {
   "cell_type": "code",
   "execution_count": 1,
   "metadata": {},
   "outputs": [],
   "source": [
    "import pandas as pd\n",
    "import numpy as np\n",
    "import seaborn as sb\n",
    "import matplotlib.pyplot as plt\n",
    "import time\n",
    "from sklearn.neural_network import MLPRegressor\n",
    "from sklearn.model_selection import train_test_split, KFold, GridSearchCV, cross_val_score\n",
    "from sklearn.metrics import r2_score, mean_squared_error, mean_absolute_error"
   ]
  },
  {
   "cell_type": "code",
   "execution_count": 2,
   "metadata": {},
   "outputs": [],
   "source": [
    "datos = pd.read_csv(\"FOTOSINTESIS.csv\", delimiter=\";\")"
   ]
  },
  {
   "cell_type": "code",
   "execution_count": 3,
   "metadata": {},
   "outputs": [],
   "source": [
    "datos = datos.drop(['Ano','Cod','Bloque'], axis=1)"
   ]
  },
  {
   "cell_type": "code",
   "execution_count": 4,
   "metadata": {},
   "outputs": [],
   "source": [
    "datos = datos.drop(['Altura planta','Area de copa (A) =m2','Asimilacion de CO2','Uso eficiente del agua','Transpiracion','Conductividad','K','MO','Conductividad electrica','Lluvias acumuladas (mms)','Humedad'], axis=1)"
   ]
  },
  {
   "cell_type": "code",
   "execution_count": 5,
   "metadata": {},
   "outputs": [],
   "source": [
    "datos = datos.fillna(datos.mean())"
   ]
  },
  {
   "cell_type": "code",
   "execution_count": 6,
   "metadata": {},
   "outputs": [],
   "source": [
    "cols_to_norm = ['Diametro tronco (cm)','A.F no destructiva m2','P','Radiacion','Temperatura',' Numero de dias con lluvia','Total']\n",
    "datos[cols_to_norm] = datos[cols_to_norm].apply(lambda X: (X - X.min()) / (X.max() - X.min()))"
   ]
  },
  {
   "cell_type": "code",
   "execution_count": 7,
   "metadata": {},
   "outputs": [
    {
     "data": {
      "text/html": [
       "<div>\n",
       "<style scoped>\n",
       "    .dataframe tbody tr th:only-of-type {\n",
       "        vertical-align: middle;\n",
       "    }\n",
       "\n",
       "    .dataframe tbody tr th {\n",
       "        vertical-align: top;\n",
       "    }\n",
       "\n",
       "    .dataframe thead th {\n",
       "        text-align: right;\n",
       "    }\n",
       "</style>\n",
       "<table border=\"1\" class=\"dataframe\">\n",
       "  <thead>\n",
       "    <tr style=\"text-align: right;\">\n",
       "      <th></th>\n",
       "      <th>Diametro tronco (cm)</th>\n",
       "      <th>A.F no destructiva m2</th>\n",
       "      <th>P</th>\n",
       "      <th>Radiacion</th>\n",
       "      <th>Temperatura</th>\n",
       "      <th>Numero de dias con lluvia</th>\n",
       "      <th>Total</th>\n",
       "    </tr>\n",
       "  </thead>\n",
       "  <tbody>\n",
       "    <tr>\n",
       "      <th>0</th>\n",
       "      <td>0.315053</td>\n",
       "      <td>0.239180</td>\n",
       "      <td>0.063124</td>\n",
       "      <td>0.404994</td>\n",
       "      <td>0.980408</td>\n",
       "      <td>0.666667</td>\n",
       "      <td>0.081196</td>\n",
       "    </tr>\n",
       "    <tr>\n",
       "      <th>1</th>\n",
       "      <td>0.310385</td>\n",
       "      <td>0.153458</td>\n",
       "      <td>0.063124</td>\n",
       "      <td>0.404994</td>\n",
       "      <td>0.980408</td>\n",
       "      <td>0.666667</td>\n",
       "      <td>0.042171</td>\n",
       "    </tr>\n",
       "    <tr>\n",
       "      <th>2</th>\n",
       "      <td>0.345391</td>\n",
       "      <td>0.303673</td>\n",
       "      <td>0.063124</td>\n",
       "      <td>0.404994</td>\n",
       "      <td>0.980408</td>\n",
       "      <td>0.666667</td>\n",
       "      <td>0.018566</td>\n",
       "    </tr>\n",
       "    <tr>\n",
       "      <th>3</th>\n",
       "      <td>0.190198</td>\n",
       "      <td>0.033923</td>\n",
       "      <td>0.063124</td>\n",
       "      <td>0.404994</td>\n",
       "      <td>0.980408</td>\n",
       "      <td>0.666667</td>\n",
       "      <td>0.153303</td>\n",
       "    </tr>\n",
       "    <tr>\n",
       "      <th>4</th>\n",
       "      <td>0.353559</td>\n",
       "      <td>0.186011</td>\n",
       "      <td>0.063124</td>\n",
       "      <td>0.404994</td>\n",
       "      <td>0.980408</td>\n",
       "      <td>0.666667</td>\n",
       "      <td>0.046181</td>\n",
       "    </tr>\n",
       "  </tbody>\n",
       "</table>\n",
       "</div>"
      ],
      "text/plain": [
       "   Diametro tronco (cm)  A.F no destructiva m2         P  Radiacion  \\\n",
       "0              0.315053               0.239180  0.063124   0.404994   \n",
       "1              0.310385               0.153458  0.063124   0.404994   \n",
       "2              0.345391               0.303673  0.063124   0.404994   \n",
       "3              0.190198               0.033923  0.063124   0.404994   \n",
       "4              0.353559               0.186011  0.063124   0.404994   \n",
       "\n",
       "   Temperatura   Numero de dias con lluvia     Total  \n",
       "0     0.980408                    0.666667  0.081196  \n",
       "1     0.980408                    0.666667  0.042171  \n",
       "2     0.980408                    0.666667  0.018566  \n",
       "3     0.980408                    0.666667  0.153303  \n",
       "4     0.980408                    0.666667  0.046181  "
      ]
     },
     "execution_count": 7,
     "metadata": {},
     "output_type": "execute_result"
    }
   ],
   "source": [
    "datos.head()"
   ]
  },
  {
   "cell_type": "code",
   "execution_count": 8,
   "metadata": {},
   "outputs": [],
   "source": [
    "# Especificar X y Y\n",
    "X = datos.values[:,:-1]  \n",
    "Y = datos.values[:,-1]"
   ]
  },
  {
   "cell_type": "code",
   "execution_count": 9,
   "metadata": {},
   "outputs": [],
   "source": [
    "# hacer validación cruzada\n",
    "#kf = KFold(n_splits=5,random_state=0, shuffle=True)\n",
    "#kf.get_n_splits(X)"
   ]
  },
  {
   "cell_type": "code",
   "execution_count": 10,
   "metadata": {},
   "outputs": [],
   "source": [
    "# para hacer holdout\n",
    "X_train, X_test, y_train, y_test = train_test_split(X, Y, test_size=0.2, random_state=42, shuffle=True)"
   ]
  },
  {
   "cell_type": "code",
   "execution_count": 11,
   "metadata": {},
   "outputs": [],
   "source": [
    "mlp = MLPRegressor(solver='adam', hidden_layer_sizes=10, max_iter=200, activation='relu',random_state=1, learning_rate_init=0.025,batch_size='auto', momentum=0.09)"
   ]
  },
  {
   "cell_type": "code",
   "execution_count": 12,
   "metadata": {},
   "outputs": [
    {
     "name": "stdout",
     "output_type": "stream",
     "text": [
      "[(4, 1), (4, 2), (4, 3), (4, 4), (4, 5), (5, 1), (5, 2), (5, 3), (5, 4), (5, 5), (6, 1), (6, 2), (6, 3), (6, 4), (6, 5), (7, 1), (7, 2), (7, 3), (7, 4), (7, 5), (8, 1), (8, 2), (8, 3), (8, 4), (8, 5), (9, 1), (9, 2), (9, 3), (9, 4), (9, 5), (10, 1), (10, 2), (10, 3), (10, 4), (10, 5)]\n",
      "35\n"
     ]
    }
   ],
   "source": [
    "#d = [(e,) for e in range (1,3)]\n",
    "#d = [ (e, ) for e in range (1,11)]\n",
    "c = [(a,b) for a in range(4,11) for b in range(1,6)]\n",
    "\n",
    "#print(d)\n",
    "print(c)\n",
    "#print(len(d))\n",
    "print(len(c))"
   ]
  },
  {
   "cell_type": "code",
   "execution_count": 13,
   "metadata": {},
   "outputs": [],
   "source": [
    "#f = c+d\n",
    "#print(f)\n",
    "#print(len(f))"
   ]
  },
  {
   "cell_type": "code",
   "execution_count": 14,
   "metadata": {},
   "outputs": [],
   "source": [
    "grid_param = {  \n",
    "    'solver': ['lbfgs', 'sgd', 'adam'],\n",
    "    'activation': ['relu', 'logistic', 'tanh'],\n",
    "    'hidden_layer_sizes': c,\n",
    "    'momentum': [0.09, 0.9],\n",
    "    'learning_rate_init': [0.025, 0.05]\n",
    "}"
   ]
  },
  {
   "cell_type": "code",
   "execution_count": 15,
   "metadata": {},
   "outputs": [],
   "source": [
    "gd_sr = GridSearchCV(estimator=mlp,  \n",
    "                     param_grid=grid_param,\n",
    "                     scoring='neg_mean_absolute_error',\n",
    "                     cv=5,\n",
    "                     n_jobs=-1)"
   ]
  },
  {
   "cell_type": "code",
   "execution_count": 16,
   "metadata": {},
   "outputs": [
    {
     "name": "stdout",
     "output_type": "stream",
     "text": [
      "88.39873838424683\n"
     ]
    }
   ],
   "source": [
    "start = time.time()\n",
    "\n",
    "gd_sr.fit(X_train, y_train)\n",
    "\n",
    "end = time.time()\n",
    "print(end - start)"
   ]
  },
  {
   "cell_type": "code",
   "execution_count": 17,
   "metadata": {},
   "outputs": [
    {
     "name": "stdout",
     "output_type": "stream",
     "text": [
      "{'activation': 'relu', 'hidden_layer_sizes': (6, 3), 'learning_rate_init': 0.025, 'momentum': 0.09, 'solver': 'lbfgs'}\n"
     ]
    }
   ],
   "source": [
    "best_parameters = gd_sr.best_params_  \n",
    "print(best_parameters)  "
   ]
  },
  {
   "cell_type": "code",
   "execution_count": 18,
   "metadata": {},
   "outputs": [
    {
     "data": {
      "text/plain": [
       "-0.10315776089043763"
      ]
     },
     "execution_count": 18,
     "metadata": {},
     "output_type": "execute_result"
    }
   ],
   "source": [
    "gd_sr.best_score_"
   ]
  },
  {
   "cell_type": "code",
   "execution_count": null,
   "metadata": {},
   "outputs": [],
   "source": []
  }
 ],
 "metadata": {
  "kernelspec": {
   "display_name": "Python 3",
   "language": "python",
   "name": "python3"
  },
  "language_info": {
   "codemirror_mode": {
    "name": "ipython",
    "version": 3
   },
   "file_extension": ".py",
   "mimetype": "text/x-python",
   "name": "python",
   "nbconvert_exporter": "python",
   "pygments_lexer": "ipython3",
   "version": "3.7.1"
  }
 },
 "nbformat": 4,
 "nbformat_minor": 2
}
