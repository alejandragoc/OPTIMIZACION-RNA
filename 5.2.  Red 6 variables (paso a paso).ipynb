{
 "cells": [
  {
   "cell_type": "code",
   "execution_count": 1,
   "metadata": {},
   "outputs": [],
   "source": [
    "import pandas as pd\n",
    "import time\n",
    "import numpy as np\n",
    "import seaborn as sb\n",
    "import matplotlib.pyplot as plt\n",
    "import sklearn.neural_network as nn\n",
    "from sklearn.model_selection import train_test_split, KFold\n",
    "from sklearn.metrics import r2_score, mean_squared_error, mean_absolute_error"
   ]
  },
  {
   "cell_type": "code",
   "execution_count": 2,
   "metadata": {},
   "outputs": [],
   "source": [
    "datos = pd.read_csv(\"FOTOSINTESIS.csv\", delimiter=\";\")"
   ]
  },
  {
   "cell_type": "code",
   "execution_count": 3,
   "metadata": {},
   "outputs": [],
   "source": [
    "datos = datos.fillna(datos.mean())"
   ]
  },
  {
   "cell_type": "code",
   "execution_count": 4,
   "metadata": {},
   "outputs": [],
   "source": [
    "datos = datos.drop(['Ano','Cod','Bloque'], axis=1)"
   ]
  },
  {
   "cell_type": "code",
   "execution_count": 5,
   "metadata": {},
   "outputs": [],
   "source": [
    "cols_to_norm = ['Altura planta','Area de copa (A) =m2', 'Diametro tronco (cm)','A.F no destructiva m2','P','Asimilacion de CO2','Uso eficiente del agua','Transpiracion','Conductividad','K','MO','Radiacion','Temperatura','Conductividad electrica','Lluvias acumuladas (mms)','Humedad',' Numero de dias con lluvia','Total']\n",
    "datos[cols_to_norm] = datos[cols_to_norm].apply(lambda X: (X - X.min()) / (X.max() - X.min()))"
   ]
  },
  {
   "cell_type": "code",
   "execution_count": 6,
   "metadata": {},
   "outputs": [],
   "source": [
    "datos = datos.drop(['Altura planta','Area de copa (A) =m2','Asimilacion de CO2','Uso eficiente del agua','Transpiracion','Conductividad','K','MO','Conductividad electrica','Lluvias acumuladas (mms)','Humedad'], axis=1)"
   ]
  },
  {
   "cell_type": "code",
   "execution_count": 7,
   "metadata": {},
   "outputs": [],
   "source": [
    "#datos = datos.drop(['A.F no destructiva m2','P'], axis=1)"
   ]
  },
  {
   "cell_type": "code",
   "execution_count": 8,
   "metadata": {},
   "outputs": [
    {
     "data": {
      "text/html": [
       "<div>\n",
       "<style scoped>\n",
       "    .dataframe tbody tr th:only-of-type {\n",
       "        vertical-align: middle;\n",
       "    }\n",
       "\n",
       "    .dataframe tbody tr th {\n",
       "        vertical-align: top;\n",
       "    }\n",
       "\n",
       "    .dataframe thead th {\n",
       "        text-align: right;\n",
       "    }\n",
       "</style>\n",
       "<table border=\"1\" class=\"dataframe\">\n",
       "  <thead>\n",
       "    <tr style=\"text-align: right;\">\n",
       "      <th></th>\n",
       "      <th>Diametro tronco (cm)</th>\n",
       "      <th>A.F no destructiva m2</th>\n",
       "      <th>P</th>\n",
       "      <th>Radiacion</th>\n",
       "      <th>Temperatura</th>\n",
       "      <th>Numero de dias con lluvia</th>\n",
       "      <th>Total</th>\n",
       "    </tr>\n",
       "  </thead>\n",
       "  <tbody>\n",
       "    <tr>\n",
       "      <th>0</th>\n",
       "      <td>0.315053</td>\n",
       "      <td>0.239180</td>\n",
       "      <td>0.063124</td>\n",
       "      <td>0.404994</td>\n",
       "      <td>0.980408</td>\n",
       "      <td>0.666667</td>\n",
       "      <td>0.081196</td>\n",
       "    </tr>\n",
       "    <tr>\n",
       "      <th>1</th>\n",
       "      <td>0.310385</td>\n",
       "      <td>0.153458</td>\n",
       "      <td>0.063124</td>\n",
       "      <td>0.404994</td>\n",
       "      <td>0.980408</td>\n",
       "      <td>0.666667</td>\n",
       "      <td>0.042171</td>\n",
       "    </tr>\n",
       "    <tr>\n",
       "      <th>2</th>\n",
       "      <td>0.345391</td>\n",
       "      <td>0.303673</td>\n",
       "      <td>0.063124</td>\n",
       "      <td>0.404994</td>\n",
       "      <td>0.980408</td>\n",
       "      <td>0.666667</td>\n",
       "      <td>0.018566</td>\n",
       "    </tr>\n",
       "    <tr>\n",
       "      <th>3</th>\n",
       "      <td>0.190198</td>\n",
       "      <td>0.033923</td>\n",
       "      <td>0.063124</td>\n",
       "      <td>0.404994</td>\n",
       "      <td>0.980408</td>\n",
       "      <td>0.666667</td>\n",
       "      <td>0.153303</td>\n",
       "    </tr>\n",
       "    <tr>\n",
       "      <th>4</th>\n",
       "      <td>0.353559</td>\n",
       "      <td>0.186011</td>\n",
       "      <td>0.063124</td>\n",
       "      <td>0.404994</td>\n",
       "      <td>0.980408</td>\n",
       "      <td>0.666667</td>\n",
       "      <td>0.046181</td>\n",
       "    </tr>\n",
       "  </tbody>\n",
       "</table>\n",
       "</div>"
      ],
      "text/plain": [
       "   Diametro tronco (cm)  A.F no destructiva m2         P  Radiacion  \\\n",
       "0              0.315053               0.239180  0.063124   0.404994   \n",
       "1              0.310385               0.153458  0.063124   0.404994   \n",
       "2              0.345391               0.303673  0.063124   0.404994   \n",
       "3              0.190198               0.033923  0.063124   0.404994   \n",
       "4              0.353559               0.186011  0.063124   0.404994   \n",
       "\n",
       "   Temperatura   Numero de dias con lluvia     Total  \n",
       "0     0.980408                    0.666667  0.081196  \n",
       "1     0.980408                    0.666667  0.042171  \n",
       "2     0.980408                    0.666667  0.018566  \n",
       "3     0.980408                    0.666667  0.153303  \n",
       "4     0.980408                    0.666667  0.046181  "
      ]
     },
     "execution_count": 8,
     "metadata": {},
     "output_type": "execute_result"
    }
   ],
   "source": [
    "datos.head()"
   ]
  },
  {
   "cell_type": "code",
   "execution_count": 9,
   "metadata": {},
   "outputs": [
    {
     "data": {
      "text/html": [
       "<div>\n",
       "<style scoped>\n",
       "    .dataframe tbody tr th:only-of-type {\n",
       "        vertical-align: middle;\n",
       "    }\n",
       "\n",
       "    .dataframe tbody tr th {\n",
       "        vertical-align: top;\n",
       "    }\n",
       "\n",
       "    .dataframe thead th {\n",
       "        text-align: right;\n",
       "    }\n",
       "</style>\n",
       "<table border=\"1\" class=\"dataframe\">\n",
       "  <thead>\n",
       "    <tr style=\"text-align: right;\">\n",
       "      <th></th>\n",
       "      <th>Diametro tronco (cm)</th>\n",
       "      <th>A.F no destructiva m2</th>\n",
       "      <th>P</th>\n",
       "      <th>Radiacion</th>\n",
       "      <th>Temperatura</th>\n",
       "      <th>Numero de dias con lluvia</th>\n",
       "      <th>Total</th>\n",
       "    </tr>\n",
       "  </thead>\n",
       "  <tbody>\n",
       "    <tr>\n",
       "      <th>count</th>\n",
       "      <td>428.000000</td>\n",
       "      <td>428.000000</td>\n",
       "      <td>428.000000</td>\n",
       "      <td>428.000000</td>\n",
       "      <td>428.000000</td>\n",
       "      <td>428.000000</td>\n",
       "      <td>428.000000</td>\n",
       "    </tr>\n",
       "    <tr>\n",
       "      <th>mean</th>\n",
       "      <td>0.508937</td>\n",
       "      <td>0.433856</td>\n",
       "      <td>0.336701</td>\n",
       "      <td>0.395773</td>\n",
       "      <td>0.494167</td>\n",
       "      <td>0.546729</td>\n",
       "      <td>0.176190</td>\n",
       "    </tr>\n",
       "    <tr>\n",
       "      <th>std</th>\n",
       "      <td>0.185929</td>\n",
       "      <td>0.205701</td>\n",
       "      <td>0.348557</td>\n",
       "      <td>0.335052</td>\n",
       "      <td>0.369474</td>\n",
       "      <td>0.445461</td>\n",
       "      <td>0.154573</td>\n",
       "    </tr>\n",
       "    <tr>\n",
       "      <th>min</th>\n",
       "      <td>0.000000</td>\n",
       "      <td>0.000000</td>\n",
       "      <td>0.000000</td>\n",
       "      <td>0.000000</td>\n",
       "      <td>0.000000</td>\n",
       "      <td>0.000000</td>\n",
       "      <td>0.000000</td>\n",
       "    </tr>\n",
       "    <tr>\n",
       "      <th>25%</th>\n",
       "      <td>0.380105</td>\n",
       "      <td>0.276705</td>\n",
       "      <td>0.063124</td>\n",
       "      <td>0.156227</td>\n",
       "      <td>0.230687</td>\n",
       "      <td>0.000000</td>\n",
       "      <td>0.059836</td>\n",
       "    </tr>\n",
       "    <tr>\n",
       "      <th>50%</th>\n",
       "      <td>0.504667</td>\n",
       "      <td>0.420100</td>\n",
       "      <td>0.237079</td>\n",
       "      <td>0.348673</td>\n",
       "      <td>0.454368</td>\n",
       "      <td>0.666667</td>\n",
       "      <td>0.143664</td>\n",
       "    </tr>\n",
       "    <tr>\n",
       "      <th>75%</th>\n",
       "      <td>0.634481</td>\n",
       "      <td>0.571228</td>\n",
       "      <td>0.574558</td>\n",
       "      <td>0.456913</td>\n",
       "      <td>0.980408</td>\n",
       "      <td>1.000000</td>\n",
       "      <td>0.244706</td>\n",
       "    </tr>\n",
       "    <tr>\n",
       "      <th>max</th>\n",
       "      <td>1.000000</td>\n",
       "      <td>1.000000</td>\n",
       "      <td>1.000000</td>\n",
       "      <td>1.000000</td>\n",
       "      <td>1.000000</td>\n",
       "      <td>1.000000</td>\n",
       "      <td>1.000000</td>\n",
       "    </tr>\n",
       "  </tbody>\n",
       "</table>\n",
       "</div>"
      ],
      "text/plain": [
       "       Diametro tronco (cm)  A.F no destructiva m2           P   Radiacion  \\\n",
       "count            428.000000             428.000000  428.000000  428.000000   \n",
       "mean               0.508937               0.433856    0.336701    0.395773   \n",
       "std                0.185929               0.205701    0.348557    0.335052   \n",
       "min                0.000000               0.000000    0.000000    0.000000   \n",
       "25%                0.380105               0.276705    0.063124    0.156227   \n",
       "50%                0.504667               0.420100    0.237079    0.348673   \n",
       "75%                0.634481               0.571228    0.574558    0.456913   \n",
       "max                1.000000               1.000000    1.000000    1.000000   \n",
       "\n",
       "       Temperatura   Numero de dias con lluvia       Total  \n",
       "count   428.000000                  428.000000  428.000000  \n",
       "mean      0.494167                    0.546729    0.176190  \n",
       "std       0.369474                    0.445461    0.154573  \n",
       "min       0.000000                    0.000000    0.000000  \n",
       "25%       0.230687                    0.000000    0.059836  \n",
       "50%       0.454368                    0.666667    0.143664  \n",
       "75%       0.980408                    1.000000    0.244706  \n",
       "max       1.000000                    1.000000    1.000000  "
      ]
     },
     "execution_count": 9,
     "metadata": {},
     "output_type": "execute_result"
    }
   ],
   "source": [
    "datos.describe(include=\"all\")"
   ]
  },
  {
   "cell_type": "code",
   "execution_count": 10,
   "metadata": {},
   "outputs": [],
   "source": [
    "# Especificar X y Y\n",
    "X = datos.values[:,:-1]  #[:,14:18] #[:,3:-1]\n",
    "Y = datos.values[:,-1]"
   ]
  },
  {
   "cell_type": "code",
   "execution_count": 11,
   "metadata": {},
   "outputs": [
    {
     "data": {
      "text/plain": [
       "5"
      ]
     },
     "execution_count": 11,
     "metadata": {},
     "output_type": "execute_result"
    }
   ],
   "source": [
    "# hacer validación cruzada\n",
    "kf = KFold(n_splits=5,random_state=0, shuffle=True)\n",
    "kf.get_n_splits(X)"
   ]
  },
  {
   "cell_type": "code",
   "execution_count": 12,
   "metadata": {},
   "outputs": [],
   "source": [
    "# para hacer holdout\n",
    "#X_train, X_test, y_train, y_test = train_test_split(X, Y, test_size=0.2, random_state=42, shuffle=True)"
   ]
  },
  {
   "cell_type": "code",
   "execution_count": null,
   "metadata": {},
   "outputs": [],
   "source": [
    "\n",
    "#start = time.time()\n",
    "#for i in range(1):\n",
    "    \n",
    "#mlp = nn.MLPRegressor(solver='adam', hidden_layer_sizes=10, max_iter=100, activation='relu', random_state=1, learning_rate_init=0.025, batch_size='auto', momentum=0.09)\n",
    "#mlp.fit(X_train, y_train)\n",
    "#y_pred = mlp.predict(X_test)\n",
    "#r2 = r2_score(y_test, y_pred)\n",
    "#mse = mean_squared_error(y_test, y_pred)\n",
    "#mae = mean_absolute_error(y_test, y_pred)\n",
    "#print(\"R2: \", r2)\n",
    "#print(\"MSE: \", mse)\n",
    "#print(\"RMSE: \", np.sqrt(mse))\n",
    "#print('MAE: ', mae)\n",
    "\n",
    "#end = time.time()\n",
    "#print('Total Time: ', end - start)\n"
   ]
  },
  {
   "cell_type": "code",
   "execution_count": 13,
   "metadata": {},
   "outputs": [
    {
     "name": "stdout",
     "output_type": "stream",
     "text": [
      "R2:  0.2361186681087477\n",
      "MSE:  0.02285685679433398\n",
      "RMSE:  0.15118484313691627\n",
      "MAE:  0.11002791954260586\n",
      "R2:  0.10260245107757326\n",
      "MSE:  0.01985065124565476\n",
      "RMSE:  0.14089233920144403\n",
      "MAE:  0.11351094307786001\n",
      "R2:  0.18286535397682813\n",
      "MSE:  0.0165352687607451\n",
      "RMSE:  0.12858953596908693\n",
      "MAE:  0.10290777530237873\n",
      "R2:  0.05612014387901265\n",
      "MSE:  0.02918188823669838\n",
      "RMSE:  0.1708270711471059\n",
      "MAE:  0.12170873786760629\n",
      "R2:  0.024540138793165744\n",
      "MSE:  0.015447743887151023\n",
      "RMSE:  0.12428895319838776\n",
      "MAE:  0.10148490737365498\n",
      "meanR2:  0.1204493511670655\n",
      "meanMSE:  0.020774481784916646\n",
      "meanRMSE:  0.14315654853058818\n",
      "meanMAE:  0.10992805663282117\n",
      "Total Time:  0.16090655326843262\n"
     ]
    }
   ],
   "source": [
    "#CON VALIDACIÓN CRUZADA\n",
    "\n",
    "start = time.time()\n",
    "\n",
    "R = []\n",
    "MSE = []   \n",
    "MAE = []   \n",
    "for train_index, test_index in kf.split(X):\n",
    "    X_train, X_test = X[train_index], X[test_index]\n",
    "    y_train, y_test = Y[train_index], Y[test_index]\n",
    "    mlp = nn.MLPRegressor(solver='adam', hidden_layer_sizes=10, max_iter=100, activation='relu', random_state=1, learning_rate_init=0.025, batch_size='auto', momentum=0.09)\n",
    "    mlp.fit(X_train, y_train)\n",
    "    y_pred = mlp.predict(X_test)\n",
    "    r2 = r2_score(y_test, y_pred)\n",
    "    mse = mean_squared_error(y_test, y_pred)\n",
    "    mae = mean_absolute_error(y_test, y_pred)\n",
    "    print(\"R2: \", r2)\n",
    "    print(\"MSE: \", mse)\n",
    "    print(\"RMSE: \", np.sqrt(mse))\n",
    "    print('MAE: ', mae)\n",
    "    R.append(r2)\n",
    "    MSE.append(mse)\n",
    "    MAE.append(mae)\n",
    "print(\"meanR2: \",np.array(R).mean())\n",
    "print(\"meanMSE: \",np.array(MSE).mean())\n",
    "print(\"meanRMSE: \", np.sqrt(MSE).mean())\n",
    "print('meanMAE: ',np.array(MAE).mean())\n",
    "\n",
    "\n",
    "end = time.time()\n",
    "print('Total Time: ', end - start)\n"
   ]
  }
 ],
 "metadata": {
  "kernelspec": {
   "display_name": "Python 3",
   "language": "python",
   "name": "python3"
  },
  "language_info": {
   "codemirror_mode": {
    "name": "ipython",
    "version": 3
   },
   "file_extension": ".py",
   "mimetype": "text/x-python",
   "name": "python",
   "nbconvert_exporter": "python",
   "pygments_lexer": "ipython3",
   "version": "3.7.1"
  }
 },
 "nbformat": 4,
 "nbformat_minor": 2
}
