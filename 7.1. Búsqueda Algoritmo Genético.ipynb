{
 "cells": [
  {
   "cell_type": "code",
   "execution_count": 1,
   "metadata": {},
   "outputs": [],
   "source": [
    "import time\n",
    "import numpy as np\n",
    "import pandas as pd\n",
    "from operator import add\n",
    "from functools import reduce\n",
    "import sklearn.neural_network as nn\n",
    "\n",
    "from sklearn.model_selection import train_test_split, KFold\n",
    "from sklearn.metrics import mean_absolute_error"
   ]
  },
  {
   "cell_type": "code",
   "execution_count": 2,
   "metadata": {},
   "outputs": [],
   "source": [
    "datos = pd.read_csv(\"FOTOSINTESIS.csv\", delimiter=\";\")"
   ]
  },
  {
   "cell_type": "code",
   "execution_count": 3,
   "metadata": {},
   "outputs": [],
   "source": [
    "datos = datos.fillna(datos.mean())"
   ]
  },
  {
   "cell_type": "code",
   "execution_count": 4,
   "metadata": {},
   "outputs": [],
   "source": [
    "datos = datos.drop(['Ano','Cod','Bloque'], axis=1)"
   ]
  },
  {
   "cell_type": "code",
   "execution_count": 5,
   "metadata": {},
   "outputs": [],
   "source": [
    "datos = datos.drop(['Altura planta','Area de copa (A) =m2','Asimilacion de CO2','Uso eficiente del agua','Transpiracion','Conductividad','K','MO','Conductividad electrica','Lluvias acumuladas (mms)','Humedad'], axis=1)"
   ]
  },
  {
   "cell_type": "code",
   "execution_count": 6,
   "metadata": {},
   "outputs": [],
   "source": [
    "cols_to_norm = ['Diametro tronco (cm)','A.F no destructiva m2','P','Radiacion','Temperatura',' Numero de dias con lluvia','Total']\n",
    "datos[cols_to_norm] = datos[cols_to_norm].apply(lambda X: (X - X.min()) / (X.max() - X.min()))"
   ]
  },
  {
   "cell_type": "code",
   "execution_count": 7,
   "metadata": {},
   "outputs": [
    {
     "data": {
      "text/html": [
       "<div>\n",
       "<style scoped>\n",
       "    .dataframe tbody tr th:only-of-type {\n",
       "        vertical-align: middle;\n",
       "    }\n",
       "\n",
       "    .dataframe tbody tr th {\n",
       "        vertical-align: top;\n",
       "    }\n",
       "\n",
       "    .dataframe thead th {\n",
       "        text-align: right;\n",
       "    }\n",
       "</style>\n",
       "<table border=\"1\" class=\"dataframe\">\n",
       "  <thead>\n",
       "    <tr style=\"text-align: right;\">\n",
       "      <th></th>\n",
       "      <th>Diametro tronco (cm)</th>\n",
       "      <th>A.F no destructiva m2</th>\n",
       "      <th>P</th>\n",
       "      <th>Radiacion</th>\n",
       "      <th>Temperatura</th>\n",
       "      <th>Numero de dias con lluvia</th>\n",
       "      <th>Total</th>\n",
       "    </tr>\n",
       "  </thead>\n",
       "  <tbody>\n",
       "    <tr>\n",
       "      <th>0</th>\n",
       "      <td>0.315053</td>\n",
       "      <td>0.239180</td>\n",
       "      <td>0.063124</td>\n",
       "      <td>0.404994</td>\n",
       "      <td>0.980408</td>\n",
       "      <td>0.666667</td>\n",
       "      <td>0.081196</td>\n",
       "    </tr>\n",
       "    <tr>\n",
       "      <th>1</th>\n",
       "      <td>0.310385</td>\n",
       "      <td>0.153458</td>\n",
       "      <td>0.063124</td>\n",
       "      <td>0.404994</td>\n",
       "      <td>0.980408</td>\n",
       "      <td>0.666667</td>\n",
       "      <td>0.042171</td>\n",
       "    </tr>\n",
       "    <tr>\n",
       "      <th>2</th>\n",
       "      <td>0.345391</td>\n",
       "      <td>0.303673</td>\n",
       "      <td>0.063124</td>\n",
       "      <td>0.404994</td>\n",
       "      <td>0.980408</td>\n",
       "      <td>0.666667</td>\n",
       "      <td>0.018566</td>\n",
       "    </tr>\n",
       "    <tr>\n",
       "      <th>3</th>\n",
       "      <td>0.190198</td>\n",
       "      <td>0.033923</td>\n",
       "      <td>0.063124</td>\n",
       "      <td>0.404994</td>\n",
       "      <td>0.980408</td>\n",
       "      <td>0.666667</td>\n",
       "      <td>0.153303</td>\n",
       "    </tr>\n",
       "    <tr>\n",
       "      <th>4</th>\n",
       "      <td>0.353559</td>\n",
       "      <td>0.186011</td>\n",
       "      <td>0.063124</td>\n",
       "      <td>0.404994</td>\n",
       "      <td>0.980408</td>\n",
       "      <td>0.666667</td>\n",
       "      <td>0.046181</td>\n",
       "    </tr>\n",
       "  </tbody>\n",
       "</table>\n",
       "</div>"
      ],
      "text/plain": [
       "   Diametro tronco (cm)  A.F no destructiva m2         P  Radiacion  \\\n",
       "0              0.315053               0.239180  0.063124   0.404994   \n",
       "1              0.310385               0.153458  0.063124   0.404994   \n",
       "2              0.345391               0.303673  0.063124   0.404994   \n",
       "3              0.190198               0.033923  0.063124   0.404994   \n",
       "4              0.353559               0.186011  0.063124   0.404994   \n",
       "\n",
       "   Temperatura   Numero de dias con lluvia     Total  \n",
       "0     0.980408                    0.666667  0.081196  \n",
       "1     0.980408                    0.666667  0.042171  \n",
       "2     0.980408                    0.666667  0.018566  \n",
       "3     0.980408                    0.666667  0.153303  \n",
       "4     0.980408                    0.666667  0.046181  "
      ]
     },
     "execution_count": 7,
     "metadata": {},
     "output_type": "execute_result"
    }
   ],
   "source": [
    "datos.head()"
   ]
  },
  {
   "cell_type": "code",
   "execution_count": 8,
   "metadata": {},
   "outputs": [],
   "source": [
    "# Especificar X y Y\n",
    "X = datos.values[:,:-1]  \n",
    "Y = datos.values[:,-1]"
   ]
  },
  {
   "cell_type": "code",
   "execution_count": 9,
   "metadata": {},
   "outputs": [],
   "source": [
    "# para hacer holdout\n",
    "#X_train, X_test, y_train, y_test = train_test_split(X, Y, test_size=0.2, random_state=42, shuffle=True)"
   ]
  },
  {
   "cell_type": "code",
   "execution_count": 10,
   "metadata": {},
   "outputs": [
    {
     "data": {
      "text/plain": [
       "5"
      ]
     },
     "execution_count": 10,
     "metadata": {},
     "output_type": "execute_result"
    }
   ],
   "source": [
    "# hacer validación cruzada\n",
    "kf = KFold(n_splits=5, random_state=0, shuffle=True)\n",
    "kf.get_n_splits(X)"
   ]
  },
  {
   "cell_type": "code",
   "execution_count": 11,
   "metadata": {},
   "outputs": [],
   "source": [
    "#target = 0\n",
    "count=20 #TAMAÑO DE LA POBLACION"
   ]
  },
  {
   "cell_type": "code",
   "execution_count": 12,
   "metadata": {},
   "outputs": [],
   "source": [
    "def individual():\n",
    "     \n",
    "    solver= ['lbfgs', 'sgd', 'adam']\n",
    "    activation= ['relu', 'logistic', 'tanh', 'identity']\n",
    "    #capa1= np.random.randint(1,16)\n",
    "    #capa2= np.random.randint(1,11)\n",
    "    #hidden_layer_sizes= (np.random.randint(1,16), np.random.randint(1,11))\n",
    "    momentum= np.round(np.linspace(0.09, 0.9),4)\n",
    "    learning_rate_init= np.round(np.linspace(0.025, 0.05),4)\n",
    "\n",
    "    return [ solver[np.random.randint(0,3)], activation[np.random.randint(0,4)], (np.random.randint(1,16), np.random.randint(1,11)), momentum[np.random.randint(0,50)], learning_rate_init[np.random.randint(0,50)] ]"
   ]
  },
  {
   "cell_type": "code",
   "execution_count": 13,
   "metadata": {
    "scrolled": true
   },
   "outputs": [
    {
     "data": {
      "text/plain": [
       "['lbfgs', 'relu', (9, 3), 0.2388, 0.0464]"
      ]
     },
     "execution_count": 13,
     "metadata": {},
     "output_type": "execute_result"
    }
   ],
   "source": [
    "individual()"
   ]
  },
  {
   "cell_type": "code",
   "execution_count": 14,
   "metadata": {},
   "outputs": [],
   "source": [
    "def population(count):\n",
    "    \n",
    "    solver= ['lbfgs', 'sgd', 'adam']\n",
    "    activation= ['relu', 'logistic', 'tanh', 'identity']\n",
    "    hidden_layer_sizes= (np.random.randint(1,16), np.random.randint(1,11))\n",
    "    momentum= np.round(np.linspace(0.09, 0.9),4)\n",
    "    learning_rate_init= np.round(np.linspace(0.025, 0.05),4)\n",
    " \n",
    "    #P =[0 for x in range(count)]\n",
    "    #for x in range(count):\n",
    "        #a = solver[np.random.randint(0,3)], activation[np.random.randint(0,4)], (np.random.randint(1,16), np.random.randint(1,11)), momentum[np.random.randint(0,50)], learning_rate_init[np.random.randint(0,50)] \n",
    "        #if a!=P[x]:\n",
    "            #P[x] = a \n",
    "    \n",
    "    #return [P]\n",
    "    return  [individual()  for x in range(count)]"
   ]
  },
  {
   "cell_type": "code",
   "execution_count": 27,
   "metadata": {},
   "outputs": [
    {
     "data": {
      "text/plain": [
       "array([0.09  , 0.1065, 0.1231, 0.1396, 0.1561, 0.1727, 0.1892, 0.2057,\n",
       "       0.2222, 0.2388, 0.2553, 0.2718, 0.2884, 0.3049, 0.3214, 0.338 ,\n",
       "       0.3545, 0.371 , 0.3876, 0.4041, 0.4206, 0.4371, 0.4537, 0.4702,\n",
       "       0.4867, 0.5033, 0.5198, 0.5363, 0.5529, 0.5694, 0.5859, 0.6024,\n",
       "       0.619 , 0.6355, 0.652 , 0.6686, 0.6851, 0.7016, 0.7182, 0.7347,\n",
       "       0.7512, 0.7678, 0.7843, 0.8008, 0.8173, 0.8339, 0.8504, 0.8669,\n",
       "       0.8835, 0.9   ])"
      ]
     },
     "execution_count": 27,
     "metadata": {},
     "output_type": "execute_result"
    }
   ],
   "source": [
    "np.round(np.linspace(0.09, 0.9),4)"
   ]
  },
  {
   "cell_type": "code",
   "execution_count": 26,
   "metadata": {},
   "outputs": [
    {
     "data": {
      "text/plain": [
       "array([0.025 , 0.0255, 0.026 , 0.0265, 0.027 , 0.0276, 0.0281, 0.0286,\n",
       "       0.0291, 0.0296, 0.0301, 0.0306, 0.0311, 0.0316, 0.0321, 0.0327,\n",
       "       0.0332, 0.0337, 0.0342, 0.0347, 0.0352, 0.0357, 0.0362, 0.0367,\n",
       "       0.0372, 0.0378, 0.0383, 0.0388, 0.0393, 0.0398, 0.0403, 0.0408,\n",
       "       0.0413, 0.0418, 0.0423, 0.0429, 0.0434, 0.0439, 0.0444, 0.0449,\n",
       "       0.0454, 0.0459, 0.0464, 0.0469, 0.0474, 0.048 , 0.0485, 0.049 ,\n",
       "       0.0495, 0.05  ])"
      ]
     },
     "execution_count": 26,
     "metadata": {},
     "output_type": "execute_result"
    }
   ],
   "source": [
    "np.round(np.linspace(0.025, 0.05),4)"
   ]
  },
  {
   "cell_type": "code",
   "execution_count": 15,
   "metadata": {},
   "outputs": [
    {
     "data": {
      "text/plain": [
       "[['adam', 'logistic', (12, 9), 0.7512, 0.048],\n",
       " ['lbfgs', 'logistic', (4, 2), 0.371, 0.0321],\n",
       " ['sgd', 'logistic', (7, 2), 0.3214, 0.0398],\n",
       " ['sgd', 'tanh', (2, 8), 0.8173, 0.0383],\n",
       " ['sgd', 'relu', (1, 9), 0.371, 0.0388],\n",
       " ['adam', 'logistic', (14, 2), 0.8008, 0.0378],\n",
       " ['lbfgs', 'identity', (10, 5), 0.7678, 0.0265],\n",
       " ['sgd', 'identity', (10, 10), 0.7512, 0.0413],\n",
       " ['lbfgs', 'relu', (11, 5), 0.7347, 0.0429],\n",
       " ['sgd', 'relu', (13, 6), 0.2718, 0.0306],\n",
       " ['adam', 'tanh', (11, 8), 0.5859, 0.025],\n",
       " ['sgd', 'identity', (6, 6), 0.4867, 0.0286],\n",
       " ['adam', 'identity', (3, 9), 0.4537, 0.0378],\n",
       " ['lbfgs', 'tanh', (4, 6), 0.3876, 0.0321],\n",
       " ['adam', 'identity', (11, 2), 0.8669, 0.0276],\n",
       " ['sgd', 'tanh', (9, 5), 0.7678, 0.0449],\n",
       " ['lbfgs', 'logistic', (6, 5), 0.5033, 0.0393],\n",
       " ['adam', 'relu', (2, 1), 0.1561, 0.0286],\n",
       " ['lbfgs', 'logistic', (9, 9), 0.619, 0.0342],\n",
       " ['sgd', 'logistic', (10, 3), 0.2222, 0.0281]]"
      ]
     },
     "execution_count": 15,
     "metadata": {},
     "output_type": "execute_result"
    }
   ],
   "source": [
    "population(count)"
   ]
  },
  {
   "cell_type": "code",
   "execution_count": 16,
   "metadata": {},
   "outputs": [],
   "source": [
    "#VALIDACIÓN CRUZADA\n",
    "def fitness(population):\n",
    "    MAE = []\n",
    "    for individual in population:\n",
    "        mae_prom=[]\n",
    "        for train_index, test_index in kf.split(X):\n",
    "            X_train, X_test = X[train_index], X[test_index]\n",
    "            y_train, y_test = Y[train_index], Y[test_index]\n",
    "            mlp = nn.MLPRegressor(solver=individual[0], activation=individual[1], hidden_layer_sizes=individual[2], momentum=individual[3], learning_rate_init=individual[4], random_state=1, batch_size='auto')\n",
    "            mlp.fit(X_train, y_train)\n",
    "            y_pred = mlp.predict(X_test)\n",
    "            mae = mean_absolute_error(y_test, y_pred)\n",
    "            mae_prom.append(mae) \n",
    "        MAE.append((np.mean(mae_prom),individual))\n",
    "    \n",
    "    #df = pd.DataFrame(MAE, columns=['MAE','Individuo']).sort_values(by=['MAE']) \n",
    "    #df.sort_values(by=['MAE'])                      \n",
    "    \n",
    "    return sorted(MAE)"
   ]
  },
  {
   "cell_type": "code",
   "execution_count": 17,
   "metadata": {},
   "outputs": [
    {
     "data": {
      "text/plain": [
       "[(0.10474301565080246, ['lbfgs', 'tanh', (4, 5), 0.5198, 0.048]),\n",
       " (0.10531507572960208, ['lbfgs', 'identity', (10, 6), 0.4702, 0.0347]),\n",
       " (0.10534022941145324, ['lbfgs', 'identity', (15, 1), 0.8669, 0.05]),\n",
       " (0.10543814459363046, ['lbfgs', 'identity', (6, 9), 0.6686, 0.0459]),\n",
       " (0.10674703355738271, ['lbfgs', 'tanh', (4, 6), 0.6355, 0.0423]),\n",
       " (0.10799413050099252, ['lbfgs', 'tanh', (8, 8), 0.8339, 0.0495]),\n",
       " (0.1081617983015181, ['lbfgs', 'tanh', (14, 6), 0.8339, 0.0357]),\n",
       " (0.10885784920152544, ['adam', 'identity', (6, 3), 0.4041, 0.0495]),\n",
       " (0.10904101178173431, ['adam', 'tanh', (14, 2), 0.7182, 0.0347]),\n",
       " (0.11043035355618476, ['adam', 'identity', (15, 4), 0.4371, 0.0388]),\n",
       " (0.1114057825011399, ['adam', 'logistic', (14, 9), 0.6024, 0.0372]),\n",
       " (0.11206935299347606, ['adam', 'tanh', (8, 5), 0.3545, 0.0332]),\n",
       " (0.1134129484730509, ['adam', 'relu', (11, 7), 0.5033, 0.0393]),\n",
       " (0.1134793424356765, ['sgd', 'logistic', (7, 6), 0.4206, 0.0301]),\n",
       " (0.11414071883778087, ['sgd', 'logistic', (1, 3), 0.8008, 0.0413]),\n",
       " (0.11436502181887429, ['sgd', 'logistic', (2, 4), 0.1727, 0.0495]),\n",
       " (0.122349511111758, ['sgd', 'tanh', (14, 10), 0.3214, 0.0383]),\n",
       " (0.12296035206220461, ['sgd', 'identity', (8, 2), 0.371, 0.0459]),\n",
       " (0.12674295264321483, ['sgd', 'identity', (1, 1), 0.3545, 0.0362]),\n",
       " (0.12698293064253777, ['sgd', 'tanh', (9, 3), 0.1892, 0.0439])]"
      ]
     },
     "execution_count": 17,
     "metadata": {},
     "output_type": "execute_result"
    }
   ],
   "source": [
    "fitness(population(count))"
   ]
  },
  {
   "cell_type": "code",
   "execution_count": 18,
   "metadata": {},
   "outputs": [],
   "source": [
    "def grade():\n",
    "    \n",
    "    a=fitness(population(count))\n",
    "\n",
    "    return a[0]"
   ]
  },
  {
   "cell_type": "code",
   "execution_count": 19,
   "metadata": {},
   "outputs": [
    {
     "data": {
      "text/plain": [
       "(0.10462208541677231, ['adam', 'identity', (13, 5), 0.5859, 0.0403])"
      ]
     },
     "execution_count": 19,
     "metadata": {},
     "output_type": "execute_result"
    }
   ],
   "source": [
    "grade()"
   ]
  },
  {
   "cell_type": "code",
   "execution_count": 20,
   "metadata": {},
   "outputs": [],
   "source": [
    "def evolve(population, retain=0.2, random_select=0.1, mutate=0.01):\n",
    "    \n",
    "    solver= ['lbfgs', 'sgd', 'adam']\n",
    "    activation= ['relu', 'logistic', 'tanh', 'identity']\n",
    "    momentum= np.round(np.linspace(0.09, 0.9),4)\n",
    "    learning_rate_init= np.round(np.linspace(0.025, 0.05),4)\n",
    "    \n",
    "    graded = fitness(population)\n",
    "    graded = [ x[1] for x in sorted(graded)]\n",
    "    retain_length = int(len(graded)*retain)\n",
    "    parents = graded[:retain_length]\n",
    "    # randomly add other individuals to\n",
    "    # promote genetic diversity\n",
    "    for individual in graded[retain_length:]:\n",
    "        if random_select > np.random.random():\n",
    "            parents.append(individual)\n",
    "    # mutate some individuals\n",
    "    for individual in parents:\n",
    "        if mutate > np.random.random():\n",
    "            pos_to_mutate = np.random.randint(0, len(individual)-1)\n",
    "            # this mutation is not ideal, because it\n",
    "            # restricts the range of possible values,\n",
    "            # but the function is unaware of the min/max\n",
    "            # values used to create the individuals\n",
    "            #solver[np.random.randint(0,3)], activation[np.random.randint(0,4)], hidden_layer_sizes \n",
    "            #momentum[np.random.randint(0,50)], learning_rate_init[np.random.randint(0,50)]\n",
    "            m = individual.copy()\n",
    "            while m == individual:\n",
    "                \n",
    "                if pos_to_mutate == 0:\n",
    "                    a = solver[np.random.randint(0,3)]\n",
    "                    individual[pos_to_mutate] = a\n",
    "                    \n",
    "                \n",
    "                if pos_to_mutate == 1:\n",
    "                    b = activation[np.random.randint(0,4)]\n",
    "                    individual[pos_to_mutate] = b\n",
    "                    \n",
    "            \n",
    "                if pos_to_mutate == 2:\n",
    "                    c = (np.random.randint(1,16) ,np.random.randint(1,11))\n",
    "                    individual[pos_to_mutate] = c\n",
    "                    \n",
    "                                \n",
    "                if pos_to_mutate == 3:\n",
    "                    d = momentum[np.random.randint(0,50)]\n",
    "                    individual[pos_to_mutate] = d\n",
    "                                        \n",
    "                if pos_to_mutate == 4:\n",
    "                    e = learning_rate_init[np.random.randint(0,50)]\n",
    "                    individual[pos_to_mutate] = e\n",
    "\n",
    "            \n",
    "            #individual[pos_to_mutate] = np.random.randint(min(individual), max(individual))\n",
    "    # crossover parents to create children\n",
    "    parents_length = len(parents)\n",
    "    desired_length = len(population) - parents_length\n",
    "    children = []\n",
    "\n",
    "    while len(children) < desired_length:\n",
    "        contador=0\n",
    "        male0 = np.random.randint(0, parents_length-1)\n",
    "        female0 = np.random.randint(0, parents_length-1)\n",
    "        \n",
    "        mascara =[]\n",
    "        for i in range (5):\n",
    "            mascara.append(np.random.randint(0,2))\n",
    "        \n",
    "        if male0 != female0 :\n",
    "            male = parents[male0]\n",
    "            female = parents[female0]\n",
    "            child =[0,0,0,0,0]\n",
    "            for i in range (5):\n",
    "                if mascara [i] == 1:\n",
    "                    child[i] = male[i]\n",
    "                else:\n",
    "                    child[i] = female[i]\n",
    "            \n",
    "            \n",
    "            for i in range (len(children)):\n",
    "                if child == children[i]:\n",
    "                    contador= contador + 1\n",
    "            \n",
    "            for i in range (len(parents)):        \n",
    "                if child == parents[i]:\n",
    "                    contador= contador + 1\n",
    "            \n",
    "            if contador == 0:        \n",
    "                children.append(child)\n",
    "                contador=0\n",
    "                \n",
    "    parents.extend(children)\n",
    "    return parents"
   ]
  },
  {
   "cell_type": "code",
   "execution_count": 21,
   "metadata": {},
   "outputs": [],
   "source": [
    "a=evolve(population(count))"
   ]
  },
  {
   "cell_type": "code",
   "execution_count": 22,
   "metadata": {},
   "outputs": [
    {
     "data": {
      "text/plain": [
       "[['lbfgs', 'tanh', (3, 4), 0.8339, 0.0403],\n",
       " ['lbfgs', 'tanh', (5, 4), 0.8504, 0.0464],\n",
       " ['lbfgs', 'relu', (2, 1), 0.8835, 0.0301],\n",
       " ['adam', 'identity', (12, 2), 0.8008, 0.0398],\n",
       " ['lbfgs', 'tanh', (1, 6), 0.7678, 0.0439],\n",
       " ['lbfgs', 'relu', (2, 1), 0.8339, 0.0301],\n",
       " ['adam', 'tanh', (3, 4), 0.8339, 0.0398],\n",
       " ['adam', 'relu', (2, 1), 0.8835, 0.0301],\n",
       " ['lbfgs', 'relu', (5, 4), 0.8504, 0.0464],\n",
       " ['adam', 'tanh', (12, 2), 0.8339, 0.0403],\n",
       " ['adam', 'identity', (3, 4), 0.8008, 0.0403],\n",
       " ['adam', 'identity', (3, 4), 0.8339, 0.0403],\n",
       " ['lbfgs', 'tanh', (12, 2), 0.8008, 0.0403],\n",
       " ['adam', 'identity', (5, 4), 0.8008, 0.0398],\n",
       " ['lbfgs', 'relu', (3, 4), 0.8835, 0.0301],\n",
       " ['lbfgs', 'tanh', (5, 4), 0.8339, 0.0403],\n",
       " ['lbfgs', 'relu', (12, 2), 0.8008, 0.0398],\n",
       " ['lbfgs', 'relu', (5, 4), 0.8835, 0.0301],\n",
       " ['lbfgs', 'relu', (2, 1), 0.8835, 0.0464],\n",
       " ['adam', 'identity', (12, 2), 0.8339, 0.0398]]"
      ]
     },
     "execution_count": 22,
     "metadata": {},
     "output_type": "execute_result"
    }
   ],
   "source": [
    "a"
   ]
  },
  {
   "cell_type": "code",
   "execution_count": 23,
   "metadata": {},
   "outputs": [],
   "source": [
    "for i in a:\n",
    "    if a.count(i)>=2:\n",
    "        print(i)"
   ]
  },
  {
   "cell_type": "code",
   "execution_count": 24,
   "metadata": {},
   "outputs": [
    {
     "name": "stdout",
     "output_type": "stream",
     "text": [
      "(0.10528005038806723, ['lbfgs', 'logistic', (14, 9), 0.3049, 0.0408])\n",
      "(0.10512218339943394, ['lbfgs', 'identity', (4, 8), 0.7016, 0.0383])\n",
      "(0.10536736943239991, ['lbfgs', 'identity', (10, 10), 0.2553, 0.0459])\n",
      "(0.10534371295365959, ['lbfgs', 'identity', (10, 8), 0.3214, 0.026])\n",
      "(0.10539243158196118, ['lbfgs', 'logistic', (12, 7), 0.1892, 0.0286])\n",
      "(0.10377279473664056, ['adam', 'relu', (13, 3), 0.1561, 0.0276])\n",
      "(0.10319702190822802, ['lbfgs', 'logistic', (9, 10), 0.4371, 0.0342])\n",
      "(0.1042785429723406, ['lbfgs', 'logistic', (10, 7), 0.1231, 0.0337])\n",
      "(0.10512218339943394, ['lbfgs', 'identity', (4, 8), 0.5363, 0.0306])\n",
      "(0.1037442772776336, ['lbfgs', 'logistic', (10, 6), 0.338, 0.0316])\n",
      "(0.10491802118584645, ['lbfgs', 'logistic', (11, 4), 0.1231, 0.0454])\n",
      "(0.10463599707641177, ['adam', 'tanh', (9, 9), 0.3049, 0.0337])\n",
      "(0.10395352348589304, ['lbfgs', 'logistic', (10, 9), 0.3214, 0.0281])\n",
      "(0.1053777133318797, ['lbfgs', 'identity', (7, 1), 0.4206, 0.0408])\n",
      "(0.10525698106516627, ['lbfgs', 'logistic', (9, 6), 0.7843, 0.0464])\n",
      "(0.1071499898529987, ['lbfgs', 'tanh', (15, 7), 0.5694, 0.0265])\n",
      "(0.10534022941145324, ['lbfgs', 'identity', (15, 1), 0.4371, 0.0469])\n",
      "(0.10535649667055187, ['lbfgs', 'identity', (12, 5), 0.5694, 0.0449])\n",
      "(0.10458160397562496, ['lbfgs', 'tanh', (3, 3), 0.4041, 0.0337])\n",
      "(0.10536398236830609, ['lbfgs', 'identity', (2, 6), 0.2222, 0.0265])\n",
      "(0.10476152750725251, ['lbfgs', 'relu', (12, 1), 0.3876, 0.0403])\n",
      "TIEMPO TOTAL:  184.02533507347107\n"
     ]
    }
   ],
   "source": [
    "start = time.time()\n",
    "p = population(count)\n",
    "fitness_history = [grade(),]\n",
    "\n",
    "\n",
    "for i in range(20):\n",
    "    p = evolve(population(count))\n",
    "    fitness_history.append(grade())\n",
    "\n",
    "for datum in fitness_history:\n",
    "    print (datum)\n",
    "    \n",
    "end = time.time()\n",
    "print('TIEMPO TOTAL: ', end - start)"
   ]
  }
 ],
 "metadata": {
  "kernelspec": {
   "display_name": "Python 3",
   "language": "python",
   "name": "python3"
  },
  "language_info": {
   "codemirror_mode": {
    "name": "ipython",
    "version": 3
   },
   "file_extension": ".py",
   "mimetype": "text/x-python",
   "name": "python",
   "nbconvert_exporter": "python",
   "pygments_lexer": "ipython3",
   "version": "3.7.1"
  }
 },
 "nbformat": 4,
 "nbformat_minor": 2
}
